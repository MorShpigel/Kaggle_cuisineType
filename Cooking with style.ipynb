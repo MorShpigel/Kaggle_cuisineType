{
 "cells": [
  {
   "cell_type": "code",
   "execution_count": 1,
   "metadata": {},
   "outputs": [],
   "source": [
    "import re\n",
    "from ast import literal_eval\n",
    "from sklearn.svm import SVC\n",
    "import numpy as np"
   ]
  },
  {
   "cell_type": "code",
   "execution_count": 2,
   "metadata": {},
   "outputs": [],
   "source": [
    "trainfile = open(\"train.json\", \"r\")\n",
    "lines = trainfile.read()\n",
    "all_dishes = literal_eval(lines)"
   ]
  },
  {
   "cell_type": "code",
   "execution_count": 3,
   "metadata": {},
   "outputs": [],
   "source": [
    "# Make a list of all cuisines\n",
    "all_cousines = set()\n",
    "for dish in all_dishes:\n",
    "    all_cousines.add(dish[\"cuisine\"])\n",
    "all_cousines = list(all_cousines)"
   ]
  },
  {
   "cell_type": "code",
   "execution_count": 4,
   "metadata": {},
   "outputs": [],
   "source": [
    "# Make a list of all ingredients\n",
    "all_ingrd = set()\n",
    "all_sub_ingrd = set()\n",
    "for dish in all_dishes:\n",
    "    for ingrd in dish[\"ingredients\"]:\n",
    "        all_ingrd.add(ingrd.lower())\n",
    "        for sub_ingrd in ingrd.lower().split(\" \"):\n",
    "            all_sub_ingrd.add(sub_ingrd)\n",
    "all_ingrd = list(all_ingrd)\n",
    "all_sub_ingrd = list(all_sub_ingrd)"
   ]
  },
  {
   "cell_type": "code",
   "execution_count": 5,
   "metadata": {},
   "outputs": [],
   "source": [
    "ingrd_to_idx = {}\n",
    "for idx, ingrd in enumerate(all_ingrd):\n",
    "    ingrd_to_idx[ingrd] = idx\n",
    "def get_index_of_ingrd(ingrd_name):\n",
    "    return ingrd_to_idx[ingrd_name]"
   ]
  },
  {
   "cell_type": "code",
   "execution_count": 6,
   "metadata": {},
   "outputs": [],
   "source": [
    "cuisine_to_idx = {}\n",
    "for idx, cuisine in enumerate(all_cousines):\n",
    "    cuisine_to_idx[cuisine] = idx\n",
    "def get_index_of_cuisine(cuisine_name):\n",
    "    return cuisine_to_idx[cuisine_name]"
   ]
  },
  {
   "cell_type": "code",
   "execution_count": 7,
   "metadata": {},
   "outputs": [
    {
     "name": "stdout",
     "output_type": "stream",
     "text": [
      "39774 dishes from 20 cousines with 6703 ingredients\n"
     ]
    }
   ],
   "source": [
    "print(str(len(all_dishes)) + \" dishes from \" + str(len(all_cousines)) + \" cousines with \" + str(len(all_ingrd)) + \" ingredients\")"
   ]
  },
  {
   "cell_type": "code",
   "execution_count": 8,
   "metadata": {},
   "outputs": [],
   "source": [
    "# Create 1 hots matrix for all dishes\n",
    "features_dim = len(all_ingrd)\n",
    "num_of_samples = len(all_dishes)\n",
    "train_matrix = np.zeros([num_of_samples, features_dim])\n",
    "labels_array = np.zeros(num_of_samples)\n",
    "for dish_idx, dish in enumerate(all_dishes):\n",
    "    labels_array[dish_idx] = get_index_of_cuisine(dish[\"cuisine\"])\n",
    "    for ingrd in dish[\"ingredients\"]:\n",
    "        train_matrix[dish_idx][get_index_of_ingrd(ingrd.lower())] = 1\n",
    "    "
   ]
  },
  {
   "cell_type": "code",
   "execution_count": null,
   "metadata": {},
   "outputs": [
    {
     "name": "stdout",
     "output_type": "stream",
     "text": [
      "[LibSVM]"
     ]
    }
   ],
   "source": [
    "# Run multi-class SVM\n",
    "clf = SVC(decision_function_shape='ovr', tol=1, verbose=True)\n",
    "clf.fit(train_matrix, labels_array)"
   ]
  },
  {
   "cell_type": "code",
   "execution_count": 76,
   "metadata": {},
   "outputs": [
    {
     "name": "stdout",
     "output_type": "stream",
     "text": [
      "{'id': 10259, 'cuisine': 'greek', 'ingredients': ['romaine lettuce', 'black olives', 'grape tomatoes', 'garlic', 'pepper', 'purple onion', 'seasoning', 'garbanzo beans', 'feta cheese crumbles']}\n",
      "10.0\n",
      "greek\n"
     ]
    }
   ],
   "source": [
    "all[0]\n",
    "all[0][\"cuisine\"]\n",
    "all[0][\"ingredients\"]\n",
    "# all[0][\"id\"]\n",
    "all_cousines\n",
    "all_ingrd\n",
    "all_ingrd\n",
    "np.zeros([4,4])\n",
    "print(all_dishes[0])\n",
    "train_matrix[0][get_index_of_ingrd(\"garlic\")]\n",
    "print(labels_array[0])\n",
    "print(all_cousines[10])"
   ]
  }
 ],
 "metadata": {
  "kernelspec": {
   "display_name": "Python 3",
   "language": "python",
   "name": "python3"
  },
  "language_info": {
   "codemirror_mode": {
    "name": "ipython",
    "version": 3
   },
   "file_extension": ".py",
   "mimetype": "text/x-python",
   "name": "python",
   "nbconvert_exporter": "python",
   "pygments_lexer": "ipython3",
   "version": "3.6.3"
  }
 },
 "nbformat": 4,
 "nbformat_minor": 2
}
